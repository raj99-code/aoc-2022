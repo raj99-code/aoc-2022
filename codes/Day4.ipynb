{
  "nbformat": 4,
  "nbformat_minor": 0,
  "metadata": {
    "colab": {
      "provenance": []
    },
    "kernelspec": {
      "name": "python3",
      "display_name": "Python 3"
    },
    "language_info": {
      "name": "python"
    }
  },
  "cells": [
    {
      "cell_type": "code",
      "execution_count": 16,
      "metadata": {
        "colab": {
          "base_uri": "https://localhost:8080/"
        },
        "id": "664Gy1K1Fb5Y",
        "outputId": "926341a8-4faf-45af-a352-ee87a54c24f8"
      },
      "outputs": [
        {
          "output_type": "stream",
          "name": "stdout",
          "text": [
            "485\n"
          ]
        }
      ],
      "source": [
        "import numpy as np\n",
        "\n",
        "data = np.loadtxt(\"../inputs/input_day_4.csv\", delimiter=\",\")\n",
        "inc_count = 0\n",
        "\n",
        "for [x1, y1, x2, y2] in data:\n",
        "  if ((x1 >= x2 and y1 <= y2) or (x1 <= x2 and y1 >= y2)):\n",
        "    inc_count += 1\n",
        "\n",
        "print(inc_count)"
      ]
    },
    {
      "cell_type": "code",
      "source": [
        "import numpy as np\n",
        "\n",
        "data = np.loadtxt(\"../inputs/input_day_4.csv\", delimiter=\",\")\n",
        "ovr_count = 0\n",
        "\n",
        "for [x1, y1, x2, y2] in data:\n",
        "  if not ((x1 < x2 and y1 < x2) or (x2 < x1 and y2 < x1)):\n",
        "    ovr_count += 1\n",
        "\n",
        "print(ovr_count)"
      ],
      "metadata": {
        "colab": {
          "base_uri": "https://localhost:8080/"
        },
        "outputId": "7993ce46-3399-459d-890f-0d13dfd13abe",
        "id": "aM74WOofNjfW"
      },
      "execution_count": 17,
      "outputs": [
        {
          "output_type": "stream",
          "name": "stdout",
          "text": [
            "857\n"
          ]
        }
      ]
    }
  ]
}