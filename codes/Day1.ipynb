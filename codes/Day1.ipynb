{
 "cells": [
  {
   "cell_type": "code",
   "execution_count": 10,
   "id": "e60c5820-0712-495a-b8d5-dce9bd70ddb0",
   "metadata": {},
   "outputs": [
    {
     "name": "stdout",
     "output_type": "stream",
     "text": [
      "66306\n",
      "195292\n"
     ]
    }
   ],
   "source": [
    "with open(\"../inputs/input_day_1_p1.txt\", \"r\") as f:\n",
    "    cal_arr, curr_sum, max_cal = [], 0, float('-inf')\n",
    "    for line in f.readlines():\n",
    "        if line == \"\\n\":\n",
    "            cal_arr.append(curr_sum)\n",
    "            max_cal = max(max_cal, curr_sum)\n",
    "            curr_sum = 0\n",
    "        else:\n",
    "            try: curr_sum += int(line)\n",
    "            except Exception as e: print(e)\n",
    "    print(max_cal)\n",
    "    print(sum(sorted(cal_arr, reverse=True)[:3]))"
   ]
  },
  {
   "cell_type": "code",
   "execution_count": null,
   "id": "e87e0e66-bd96-46fe-a723-1395e5ec4390",
   "metadata": {},
   "outputs": [],
   "source": []
  }
 ],
 "metadata": {
  "kernelspec": {
   "display_name": "Python 3 (ipykernel)",
   "language": "python",
   "name": "python3"
  },
  "language_info": {
   "codemirror_mode": {
    "name": "ipython",
    "version": 3
   },
   "file_extension": ".py",
   "mimetype": "text/x-python",
   "name": "python",
   "nbconvert_exporter": "python",
   "pygments_lexer": "ipython3",
   "version": "3.10.6"
  }
 },
 "nbformat": 4,
 "nbformat_minor": 5
}
