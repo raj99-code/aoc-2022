{
 "cells": [
  {
   "cell_type": "code",
   "execution_count": 145,
   "id": "1b4cbf35-7108-4f34-82cb-0a14c36aa255",
   "metadata": {},
   "outputs": [
    {
     "name": "stdout",
     "output_type": "stream",
     "text": [
      "8153\n"
     ]
    }
   ],
   "source": [
    "data = open(\"../inputs/input_day_3.txt\")\n",
    "\n",
    "com_sum = 0\n",
    "\n",
    "for line in data.readlines():\n",
    "    ruc1_dict, ruc2_dict, ruc_com_dict = {}, {}, {}\n",
    "    line = line.strip()\n",
    "    l = len(line)\n",
    "    for idx, c in enumerate(line):\n",
    "        pr = ord(c)-96 if c.islower() else ord(c)-38\n",
    "        if idx < l/2:\n",
    "            try: _ = ruc1_dict[c]\n",
    "            except: ruc1_dict[c] = pr\n",
    "        else:\n",
    "            try:\n",
    "                val = ruc1_dict[c]\n",
    "                del ruc1_dict[c]\n",
    "                ruc_com_dict[c] = val\n",
    "            except:\n",
    "                ruc2_dict[c] = pr\n",
    "\n",
    "    com_sum += sum(list(ruc_com_dict.values()))\n",
    "\n",
    "\n",
    "print(com_sum)"
   ]
  },
  {
   "cell_type": "code",
   "execution_count": 146,
   "id": "adc75279-b04e-4042-9b2a-9b38f289dc0d",
   "metadata": {},
   "outputs": [
    {
     "name": "stdout",
     "output_type": "stream",
     "text": [
      "2342\n"
     ]
    }
   ],
   "source": [
    "data = open(\"../inputs/input_day_3.txt\")\n",
    "\n",
    "com_sum = 0\n",
    "three_lines = []\n",
    "three_idx = 0\n",
    "\n",
    "for line in data.readlines():\n",
    "    ruc1_dict, ruc2_dict, ruc3_dict, ruc_com_dict = {}, {}, {}, {}\n",
    "    line = line.strip()\n",
    "    three_lines.append(line)\n",
    "    if three_idx != 2:\n",
    "        three_idx += 1\n",
    "        continue\n",
    "\n",
    "    # Line 1\n",
    "    for c in three_lines[0]:\n",
    "        try: _ = ruc1_dict[c]\n",
    "        except: ruc1_dict[c] = ord(c)-96 if c.islower() else ord(c)-38\n",
    "\n",
    "    # Line 2\n",
    "    for c in three_lines[1]:\n",
    "        try:\n",
    "            val = ruc1_dict[c]\n",
    "            del ruc1_dict[c]\n",
    "            ruc_com_dict[c] = val\n",
    "        except: ruc2_dict[c] = ord(c)-96 if c.islower() else ord(c)-38\n",
    "\n",
    "    # Line 3\n",
    "    for c in three_lines[2]:\n",
    "        try: _ = ruc3_dict[c]\n",
    "        except: ruc3_dict[c] = True\n",
    "\n",
    "    # Common\n",
    "    for c in list(ruc_com_dict.keys()):\n",
    "        try: val = ruc3_dict[c]\n",
    "        except: del ruc_com_dict[c]\n",
    "\n",
    "    com_sum += np.sum(list(ruc_com_dict.values()))\n",
    "\n",
    "    three_lines = []\n",
    "    three_idx = 0\n",
    "\n",
    "print(com_sum)"
   ]
  },
  {
   "cell_type": "code",
   "execution_count": null,
   "id": "2c1a4740-b09c-40c7-9a0e-056db787c774",
   "metadata": {},
   "outputs": [],
   "source": []
  }
 ],
 "metadata": {
  "kernelspec": {
   "display_name": "Python 3 (ipykernel)",
   "language": "python",
   "name": "python3"
  },
  "language_info": {
   "codemirror_mode": {
    "name": "ipython",
    "version": 3
   },
   "file_extension": ".py",
   "mimetype": "text/x-python",
   "name": "python",
   "nbconvert_exporter": "python",
   "pygments_lexer": "ipython3",
   "version": "3.10.6"
  }
 },
 "nbformat": 4,
 "nbformat_minor": 5
}
